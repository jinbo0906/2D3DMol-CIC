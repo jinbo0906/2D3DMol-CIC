{
 "cells": [
  {
   "cell_type": "code",
   "execution_count": 56,
   "id": "0d6ab230",
   "metadata": {
    "ExecuteTime": {
     "end_time": "2023-03-05T11:27:56.096110Z",
     "start_time": "2023-03-05T11:27:56.077036Z"
    }
   },
   "outputs": [],
   "source": [
    "from rdkit import Chem\n",
    "import os\n",
    "import numpy as np\n",
    "import pandas as pd"
   ]
  },
  {
   "cell_type": "code",
   "execution_count": 57,
   "id": "04936f84",
   "metadata": {
    "ExecuteTime": {
     "end_time": "2023-03-05T11:27:56.580082Z",
     "start_time": "2023-03-05T11:27:56.546174Z"
    }
   },
   "outputs": [],
   "source": [
    "hcl_001 = pd.read_csv('HCL-0.01MM.csv')\n",
    "hcl_005 = pd.read_csv('HCL-0.05MM.csv')\n",
    "hcl_01 = pd.read_csv('HCL-0.1MM.csv')\n",
    "hcl_05 = pd.read_csv('HCL-0.5MM.csv')\n",
    "test_add=pd.read_csv('test_add.csv')"
   ]
  },
  {
   "cell_type": "code",
   "execution_count": 21,
   "id": "8ce610f0",
   "metadata": {
    "ExecuteTime": {
     "end_time": "2023-03-05T11:12:20.662973Z",
     "start_time": "2023-03-05T11:12:20.600000Z"
    }
   },
   "outputs": [],
   "source": [
    "np_hcl_001=np.array(hcl_001['smiles'])\n",
    "new_hcl_001=[]\n",
    "for smiles in np_hcl_001:\n",
    "    mol = Chem.MolFromSmiles(smiles)\n",
    "    can_smiles=Chem.MolToSmiles(mol)\n",
    "    new_hcl_001.append(can_smiles)\n",
    "new_hcl_001=pd.DataFrame(new_hcl_001)\n",
    "new_hcl_001.to_csv('canonical_HCL-0.01MM.csv',index=0,mode='a')    "
   ]
  },
  {
   "cell_type": "code",
   "execution_count": 22,
   "id": "5053e3a1",
   "metadata": {
    "ExecuteTime": {
     "end_time": "2023-03-05T11:12:21.583640Z",
     "start_time": "2023-03-05T11:12:21.544166Z"
    }
   },
   "outputs": [],
   "source": [
    "np_hcl_005=np.array(hcl_005['smiles'])\n",
    "new_hcl_005=[]\n",
    "for smiles in np_hcl_005:\n",
    "    mol = Chem.MolFromSmiles(smiles)\n",
    "    can_smiles=Chem.MolToSmiles(mol)\n",
    "    new_hcl_005.append(can_smiles)\n",
    "new_hcl_005=pd.DataFrame(new_hcl_005)\n",
    "new_hcl_005.to_csv('canonical_HCL-0.05MM.csv',index=0,mode='a')"
   ]
  },
  {
   "cell_type": "code",
   "execution_count": 23,
   "id": "6d7f2381",
   "metadata": {
    "ExecuteTime": {
     "end_time": "2023-03-05T11:12:22.674540Z",
     "start_time": "2023-03-05T11:12:22.612052Z"
    }
   },
   "outputs": [],
   "source": [
    "np_hcl_05=np.array(hcl_05['smiles'])\n",
    "new_hcl_05=[]\n",
    "for smiles in np_hcl_05:\n",
    "    mol = Chem.MolFromSmiles(smiles)\n",
    "    can_smiles=Chem.MolToSmiles(mol)\n",
    "    new_hcl_05.append(can_smiles)\n",
    "new_hcl_05=pd.DataFrame(new_hcl_05)\n",
    "new_hcl_05.to_csv('canonical_HCL-0.5MM.csv',index=0,mode='a')"
   ]
  },
  {
   "cell_type": "code",
   "execution_count": 24,
   "id": "b1845ac6",
   "metadata": {
    "ExecuteTime": {
     "end_time": "2023-03-05T11:12:24.100867Z",
     "start_time": "2023-03-05T11:12:24.012932Z"
    }
   },
   "outputs": [],
   "source": [
    "np_hcl_01=np.array(hcl_01['smiles'])\n",
    "new_hcl_01=[]\n",
    "for smiles in np_hcl_01:\n",
    "    mol = Chem.MolFromSmiles(smiles)\n",
    "    can_smiles=Chem.MolToSmiles(mol)\n",
    "    new_hcl_01.append(can_smiles)\n",
    "new_hcl_01=pd.DataFrame(new_hcl_01)\n",
    "new_hcl_01.to_csv('canonical_HCL-0.1MM.csv',index=0,mode='a')"
   ]
  },
  {
   "cell_type": "code",
   "execution_count": 62,
   "id": "edc98e34",
   "metadata": {
    "ExecuteTime": {
     "end_time": "2023-03-05T11:29:00.892227Z",
     "start_time": "2023-03-05T11:29:00.866294Z"
    }
   },
   "outputs": [],
   "source": [
    "np_test_add=np.array(test_add['smiles'])\n",
    "test_add_norm=[]\n",
    "for smiles in np_test_add[:]:\n",
    "    mol = Chem.MolFromSmiles(smiles)\n",
    "    can_smiles=Chem.MolToSmiles(mol)\n",
    "    test_add_norm.append(can_smiles)\n",
    "test_add_norm=pd.DataFrame(test_add_norm)\n",
    "test_add_norm.to_csv('test_add_norm.csv',index=0,mode='a')"
   ]
  },
  {
   "cell_type": "code",
   "execution_count": 61,
   "id": "cfb8ec36",
   "metadata": {
    "ExecuteTime": {
     "end_time": "2023-03-05T11:28:15.319149Z",
     "start_time": "2023-03-05T11:28:15.299504Z"
    }
   },
   "outputs": [
    {
     "data": {
      "text/plain": [
       "['Oc1ccccc1/C=N/Cc1ccc(O)c2ncccc12',\n",
       " 'Oc1ccccc1/C=N/Cc1ccc(O)c2ncccc12',\n",
       " 'Oc1ccccc1/C=N/Cc1ccc(O)c2ncccc12',\n",
       " 'Oc1ccc(C/N=C/c2ccc(Cl)cc2)c2cccnc12',\n",
       " 'Oc1ccc(C/N=C/c2ccc(Cl)cc2)c2cccnc12',\n",
       " 'Oc1ccc(C/N=C/c2ccc(Cl)cc2)c2cccnc12',\n",
       " 'Nc1ccccc1-c1nc2ccccc2[nH]1',\n",
       " 'Nc1ccccc1-c1nc2ccccc2[nH]1',\n",
       " 'Nc1ccccc1-c1nc2ccccc2[nH]1',\n",
       " 'CC(=O)NC(=S)NCCN',\n",
       " 'CC(=O)NC(=S)N(CCO)CCO',\n",
       " 'CC(=O)NC(=S)NCCO',\n",
       " 'CC(=O)NC(=S)NCCNCCNCCNCCN',\n",
       " 'CC(=O)NC(=S)NCCN',\n",
       " 'CC(=O)NC(=S)N(CCO)CCO',\n",
       " 'CC(=O)NC(=S)NCCO',\n",
       " 'CC(=O)NC(=S)NCCNCCNCCNCCN',\n",
       " 'CC(=O)NC(=S)NCCN',\n",
       " 'CC(=O)NC(=S)N(CCO)CCO',\n",
       " 'CC(=O)NC(=S)NCCO',\n",
       " 'CC(=O)NC(=S)NCCNCCNCCNCCN',\n",
       " 'CN(C)c1ccc(/C=C/C=O)cc1',\n",
       " 'CN(C)c1ccc(/C=C/C=O)cc1',\n",
       " 'CN(C)c1ccc(/C=C/C=O)cc1',\n",
       " 'COc1ccc(Cn2c(-c3ccc(OC)cc3)nc3ccccc32)cc1',\n",
       " 'COc1ccc(Cn2c(-c3ccc(OC)cc3)nc3ccccc32)cc1',\n",
       " 'c1ccc2c(c1)ncn2CC1CO1',\n",
       " 'c1ccc2c(c1)ncn2CC1CO1',\n",
       " 'c1ccc2c(c1)ncn2CC1CO1',\n",
       " 'O=C1CC(c2ccccc2)NC2CCCCC2N1',\n",
       " 'O=C1CC(c2ccccc2)NC2CCCCC2N1',\n",
       " 'O=C1CC(c2ccccc2)NC2CCCCC2N1',\n",
       " 'CCOC(=O)c1cc(C)n(CNc2cnc(C)cc2[N+](=O)[O-])n1',\n",
       " 'CCOC(=O)c1cc(C)n(CNc2cnc(C)cc2[N+](=O)[O-])n1',\n",
       " 'CCOC(=O)c1cc(C)n(CNc2cnc(C)cc2[N+](=O)[O-])n1',\n",
       " 'CC1=Nc2ccccc2NC(=O)C1',\n",
       " 'CC1=Nc2ccccc2NC(=O)C1',\n",
       " 'CC1=Nc2ccccc2NC(=O)C1',\n",
       " 'CC1=Nc2ccccc2NC(=O)C1',\n",
       " 'N#CC1=C(c2ccccc2)c2ccc3cccnc3c2OC1N',\n",
       " 'N#CC1=C(c2ccccc2)c2ccc3cccnc3c2OC1N',\n",
       " 'N#CC1=C(c2ccccc2)c2ccc3cccnc3c2OC1N',\n",
       " 'COc1ccc(C2=C(C#N)C(N)Oc3c2ccc2cccnc32)cc1',\n",
       " 'COc1ccc(C2=C(C#N)C(N)Oc3c2ccc2cccnc32)cc1',\n",
       " 'COc1ccc(C2=C(C#N)C(N)Oc3c2ccc2cccnc32)cc1',\n",
       " 'C#CCN1C(=O)c2ccccc2S1(=O)=O',\n",
       " 'C#CCN1C(=O)c2ccccc2S1(=O)=O',\n",
       " 'C#CCN1C(=O)c2ccccc2S1(=O)=O',\n",
       " 'C#CCN1C(=O)c2ccccc2S1(=O)=O',\n",
       " 'CO[C@@H]1O[C@H](COCC2CO2)[C@H](OCC2CO2)[C@H](OCC2CO2)[C@H]1OCC1CO1',\n",
       " 'CO[C@@H]1O[C@H](COCC2CO2)[C@H](OCC2CO2)[C@H](OCC2CO2)[C@H]1OCC1CO1',\n",
       " 'CO[C@@H]1O[C@H](COCC2CO2)[C@H](OCC2CO2)[C@H](OCC2CO2)[C@H]1OCC1CO1',\n",
       " 'CO[C@@H]1O[C@H](COCC2CO2)[C@@H](OCC2CO2)[C@H](OCC2CO2)[C@H]1OCC1CO1',\n",
       " 'CO[C@@H]1O[C@H](COCC2CO2)[C@@H](OCC2CO2)[C@H](OCC2CO2)[C@H]1OCC1CO1',\n",
       " 'CO[C@@H]1O[C@H](COCC2CO2)[C@@H](OCC2CO2)[C@H](OCC2CO2)[C@H]1OCC1CO1']"
      ]
     },
     "execution_count": 61,
     "metadata": {},
     "output_type": "execute_result"
    }
   ],
   "source": [
    "test_add_norm"
   ]
  },
  {
   "cell_type": "code",
   "execution_count": 53,
   "id": "a1ba7544",
   "metadata": {
    "ExecuteTime": {
     "end_time": "2023-03-05T11:27:15.263229Z",
     "start_time": "2023-03-05T11:27:15.243283Z"
    }
   },
   "outputs": [
    {
     "data": {
      "image/png": "[encoded data removed]",
      "text/plain": [
       "<rdkit.Chem.rdchem.Mol at 0x29d709dcf90>"
      ]
     },
     "execution_count": 53,
     "metadata": {},
     "output_type": "execute_result"
    }
   ],
   "source": [
    "mol = Chem.MolFromSmiles('N1C2=CC=CC=C2N(CC2CO2)C=1')\n",
    "mol"
   ]
  },
  {
   "cell_type": "code",
   "execution_count": null,
   "id": "eb4ad965",
   "metadata": {},
   "outputs": [],
   "source": []
  }
 ],
 "metadata": {
  "kernelspec": {
   "display_name": "Python [conda env:torch]",
   "language": "python",
   "name": "conda-env-torch-py"
  },
  "language_info": {
   "codemirror_mode": {
    "name": "ipython",
    "version": 3
   },
   "file_extension": ".py",
   "mimetype": "text/x-python",
   "name": "python",
   "nbconvert_exporter": "python",
   "pygments_lexer": "ipython3",
   "version": "3.8.13"
  },
  "toc": {
   "base_numbering": 1,
   "nav_menu": {},
   "number_sections": true,
   "sideBar": true,
   "skip_h1_title": false,
   "title_cell": "Table of Contents",
   "title_sidebar": "Contents",
   "toc_cell": false,
   "toc_position": {},
   "toc_section_display": true,
   "toc_window_display": false
  }
 },
 "nbformat": 4,
 "nbformat_minor": 5
}
