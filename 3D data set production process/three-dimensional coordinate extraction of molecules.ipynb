{
 "cells": [
  {
   "cell_type": "code",
   "execution_count": 3,
   "id": "f28681f9",
   "metadata": {
    "ExecuteTime": {
     "end_time": "2023-04-25T16:39:39.914917Z",
     "start_time": "2023-04-25T16:39:39.739385Z"
    }
   },
   "outputs": [],
   "source": [
    "import os\n",
    "import pandas as pd\n",
    "import numpy as np\n",
    "from rdkit import Chem"
   ]
  },
  {
   "cell_type": "code",
   "execution_count": 4,
   "id": "3c866fa1",
   "metadata": {
    "ExecuteTime": {
     "end_time": "2023-04-25T16:39:40.530308Z",
     "start_time": "2023-04-25T16:39:40.494404Z"
    }
   },
   "outputs": [],
   "source": [
    "# mol = Chem.MolFromSmiles('O=C(CSc1nnc(Cn2cncn2)o1)c1ccccc1')\n",
    "# atom_num = mol.GetNumAtoms()"
   ]
  },
  {
   "cell_type": "code",
   "execution_count": 12,
   "id": "b1686072",
   "metadata": {
    "ExecuteTime": {
     "end_time": "2023-04-25T16:45:44.544531Z",
     "start_time": "2023-04-25T16:45:44.531576Z"
    }
   },
   "outputs": [],
   "source": [
    "file_path= 'E:/马金博/缓蚀剂研究/三维数据集制作/188.mol'\n",
    "f = open(file_path)\n",
    "contents=[]\n",
    "content=f.read().split('\\n')\n",
    "#     print(name)\n",
    "for i in range(4,36):\n",
    "#         print(i)\n",
    "    a=content[i].split()\n",
    "    contents.append(a[0:4])"
   ]
  },
  {
   "cell_type": "code",
   "execution_count": 13,
   "id": "d52b6039",
   "metadata": {
    "ExecuteTime": {
     "end_time": "2023-04-25T16:45:45.074113Z",
     "start_time": "2023-04-25T16:45:45.056163Z"
    }
   },
   "outputs": [],
   "source": [
    "x,y,z=[],[],[]\n",
    "for i in contents:\n",
    "    x.append(float(i[0]))\n",
    "    y.append(float(i[1]))\n",
    "    z.append(float(i[2]))"
   ]
  },
  {
   "cell_type": "code",
   "execution_count": 17,
   "id": "6e81b0d6",
   "metadata": {
    "ExecuteTime": {
     "end_time": "2023-04-25T16:47:38.860392Z",
     "start_time": "2023-04-25T16:47:38.849414Z"
    }
   },
   "outputs": [
    {
     "name": "stdout",
     "output_type": "stream",
     "text": [
      "[0.7412, 1.4334, 2.7577, 3.1415, 1.5406, 1.179, -0.1725, -0.5207, -1.883, -2.6194, -2.9215, -3.6272, -3.7297, -3.1354, 0.5184, 1.0268, -0.3347, -0.7815, 0.1339, 1.4922, 1.9387, 3.6022, 2.7515, -1.8303, -2.4223, -2.5913, -4.2525, -1.0239, -1.8411, -0.213, 2.2014, 2.9926]\n"
     ]
    }
   ],
   "source": [
    "print(x)"
   ]
  },
  {
   "cell_type": "code",
   "execution_count": 18,
   "id": "235aadbf",
   "metadata": {
    "ExecuteTime": {
     "end_time": "2023-04-25T16:48:07.096409Z",
     "start_time": "2023-04-25T16:48:07.087466Z"
    }
   },
   "outputs": [
    {
     "name": "stdout",
     "output_type": "stream",
     "text": [
      "[-0.228, -0.4469, 0.3248, 1.1341, 1.4775, 1.5372, 1.9007, 2.0085, 2.2539, 1.0085, 0.0466, -0.9113, -0.4734, 0.6855, 1.7733, -1.4129, -1.7416, -2.6324, -3.2174, -2.9067, -1.9996, -0.3541, 1.0729, 2.7298, 2.9043, 0.0834, -1.0198, -1.2773, -2.8489, -3.9123, -3.3627, -1.752]\n"
     ]
    }
   ],
   "source": [
    "print(y)"
   ]
  },
  {
   "cell_type": "code",
   "execution_count": 19,
   "id": "a05973f2",
   "metadata": {
    "ExecuteTime": {
     "end_time": "2023-04-25T16:48:14.343093Z",
     "start_time": "2023-04-25T16:48:14.324147Z"
    }
   },
   "outputs": [
    {
     "name": "stdout",
     "output_type": "stream",
     "text": [
      "[-2.6313, -1.6533, -1.5388, 0.0797, 0.685, 1.9318, 1.9226, 0.6813, 0.1319, -0.0568, 0.8462, 0.2663, -1.0232, -1.2736, -0.1747, -0.6002, -0.5149, 0.4551, 1.334, 1.2462, 0.2892, -1.6982, -2.3302, -0.847, 0.8248, 1.8742, -1.7949, -1.2115, 0.5329, 2.0926, 1.9293, 0.2385]\n"
     ]
    }
   ],
   "source": [
    "print(z)"
   ]
  },
  {
   "cell_type": "code",
   "execution_count": null,
   "id": "9a6d76cb",
   "metadata": {},
   "outputs": [],
   "source": []
  }
 ],
 "metadata": {
  "kernelspec": {
   "display_name": "Python [conda env:chemprop]",
   "language": "python",
   "name": "conda-env-chemprop-py"
  },
  "language_info": {
   "codemirror_mode": {
    "name": "ipython",
    "version": 3
   },
   "file_extension": ".py",
   "mimetype": "text/x-python",
   "name": "python",
   "nbconvert_exporter": "python",
   "pygments_lexer": "ipython3",
   "version": "3.8.12"
  },
  "toc": {
   "base_numbering": 1,
   "nav_menu": {},
   "number_sections": true,
   "sideBar": true,
   "skip_h1_title": false,
   "title_cell": "Table of Contents",
   "title_sidebar": "Contents",
   "toc_cell": false,
   "toc_position": {},
   "toc_section_display": true,
   "toc_window_display": false
  }
 },
 "nbformat": 4,
 "nbformat_minor": 5
}
